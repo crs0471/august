{
  "nbformat": 4,
  "nbformat_minor": 0,
  "metadata": {
    "colab": {
      "provenance": []
    },
    "kernelspec": {
      "name": "python3",
      "display_name": "Python 3"
    },
    "language_info": {
      "name": "python"
    }
  },
  "cells": [
    {
      "cell_type": "code",
      "execution_count": 1,
      "metadata": {
        "colab": {
          "base_uri": "https://localhost:8080/"
        },
        "id": "036EWhFVp380",
        "outputId": "04be8436-eec4-4e6f-e9f4-d17834567e10"
      },
      "outputs": [
        {
          "output_type": "stream",
          "name": "stdout",
          "text": [
            "a :  10\n",
            "b : 5\n"
          ]
        }
      ],
      "source": [
        "#Write a program to swap two numbers without using a third variable. [2.5 marks]\n",
        "a = 5\n",
        "b = 10\n",
        "a,b = b,a\n",
        "print('a : ',a)\n",
        "print('b :', b)"
      ]
    },
    {
      "cell_type": "code",
      "source": [
        "# Explain overloading and overriding by writing a sample program. [2.5 marks]\n",
        "\n",
        "# overloading is create same named function using deffernt param\n",
        "\n",
        "class ABC():\n",
        "    def fun():\n",
        "        print('with no param')\n",
        "    def fun(a):\n",
        "        print('with one param ')\n",
        "    def fun(a, b):\n",
        "        print('with two param')\n",
        "\n",
        "inst1 = ABC()\n",
        "# inst1.fun() # will print : with no param\n",
        "inst1.fun(4) # will print : with one param\n",
        "inst1.fun(4, 5) # will print : with two param\n",
        "\n",
        "# overriding is overwrite code of function\n",
        "class ABC():\n",
        "    def fun():\n",
        "        print('Fun From ABC')\n",
        "\n",
        "class XYZ():\n",
        "    def fun():\n",
        "        print('Fun From XYZ')\n",
        "\n",
        "\n",
        "inst1 = XYZ()\n",
        "inst1.fun() # will print : Fun From XYZ"
      ],
      "metadata": {
        "id": "tEc9bImYqUvP"
      },
      "execution_count": null,
      "outputs": []
    },
    {
      "cell_type": "code",
      "source": [
        "# Write a program to find the second largest number in an array. [2.5 marks]\n",
        "\n",
        "list1 = [2,3,4,33,55,30,41]\n",
        "MaxBefore = max(list1)\n",
        "for i in list1:\n",
        "    if i == MaxBefore:\n",
        "        list1.remove(i)\n",
        "MaxFinal = max(list1)\n",
        "print(MaxFinal) #41"
      ],
      "metadata": {
        "colab": {
          "base_uri": "https://localhost:8080/"
        },
        "id": "PK-utgR2qyTP",
        "outputId": "90de7dfc-0b3c-4ab3-dd1e-4ea07a31fa98"
      },
      "execution_count": 6,
      "outputs": [
        {
          "output_type": "stream",
          "name": "stdout",
          "text": [
            "41\n"
          ]
        }
      ]
    },
    {
      "cell_type": "code",
      "source": [
        "# Given an integer array numbers and return all the triplets [nums[i], nums[j], nums[k]] such that i != j, i != k, and j != k, and nums[i] + nums[j] + nums[k] == 0. [5 marks]\n",
        "\n",
        "# Notice that the solution set must not contain duplicate triplets.\n",
        "\n",
        "# Example 1:\n",
        "\n",
        "# Input: nums = [-1,0,1,2,-1,-4]\n",
        "\n",
        "# Output: [[-1,-1,2],[-1,0,1]]\n",
        "nums = [-1,0,1,2,-1,-4]\n",
        "templist = []\n",
        "for i in range(len(nums)):\n",
        "    for j in range(i+1,len(nums)):\n",
        "        for k in range(j+1, len(nums)):\n",
        "            if nums[i] +nums[j] + nums[k] == 0:\n",
        "                l2 = [nums[i], nums[j], nums[k]]\n",
        "                l2.sort()\n",
        "                if l2 not in templist:\n",
        "                    templist.append(l2)\n",
        "print(templist) #  [[-1,-1,2],[-1,0,1]]"
      ],
      "metadata": {
        "colab": {
          "base_uri": "https://localhost:8080/"
        },
        "id": "nLYNmJi0q23J",
        "outputId": "836cc9f7-55f9-420f-b0d5-d1f512e5185c"
      },
      "execution_count": 11,
      "outputs": [
        {
          "output_type": "stream",
          "name": "stdout",
          "text": [
            "[[-1, 0, 1], [-1, -1, 2]]\n"
          ]
        }
      ]
    },
    {
      "cell_type": "code",
      "source": [
        "# Write a program or algorithm to implement bubble sort. [5 marks]\n",
        "\n",
        "nums = [-1,0,1,2,-1,-4]\n",
        "for i in range(len(nums)):\n",
        "    for j in range(i+1,len(nums)):\n",
        "        if nums[j] < nums[i]:\n",
        "            nums[i], nums[j] = nums[j], nums[i]\n",
        "print(nums)"
      ],
      "metadata": {
        "colab": {
          "base_uri": "https://localhost:8080/"
        },
        "id": "OX3WQot8r5zl",
        "outputId": "f4412146-2dcd-4f3c-c716-468bf12c3f85"
      },
      "execution_count": 14,
      "outputs": [
        {
          "output_type": "stream",
          "name": "stdout",
          "text": [
            "[-4, -1, -1, 0, 1, 2]\n"
          ]
        }
      ]
    },
    {
      "cell_type": "code",
      "source": [
        "# Write a program or algorithm for Two Elements whose sum is closest to zero. [2.5 marks]\n",
        "\n",
        "# Example\n",
        "\n",
        "# You are given an array [-23, 12, -35, 45, 20, 36] then the two elements would be -35 & 36 as their pair sum is 1 which is closest to 0\n",
        "list1 = [-23, 12, -35, 45, 20, 36]\n",
        "\n",
        "tempDict = {}\n",
        "for i in range(len(list1)):\n",
        "    for j in range(i+1, len(list1)):\n",
        "        summ = list1[i] + list1[j]\n",
        "        tempDict[summ] = [list1[i], list1[j]]\n",
        "tk = max(list1) +1\n",
        "out1 = []\n",
        "out2 = []\n",
        "for k in tempDict.keys():\n",
        "  if abs(k) < tk:\n",
        "      out1, out2 = tempDict[k][0], tempDict[k][1]\n",
        "\n",
        "print(out1, out2)"
      ],
      "metadata": {
        "colab": {
          "base_uri": "https://localhost:8080/"
        },
        "id": "Y6EApybTsHMG",
        "outputId": "3013b154-2225-41c4-9dde-f924d484a139"
      },
      "execution_count": 20,
      "outputs": [
        {
          "output_type": "stream",
          "name": "stdout",
          "text": [
            "-35 36\n"
          ]
        }
      ]
    }
  ]
}